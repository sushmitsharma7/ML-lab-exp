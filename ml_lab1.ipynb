{
  "nbformat": 4,
  "nbformat_minor": 0,
  "metadata": {
    "colab": {
      "provenance": [],
      "toc_visible": true,
      "authorship_tag": "ABX9TyPvCdj3Gdl/CsuMnGtOvSAZ",
      "include_colab_link": true
    },
    "kernelspec": {
      "name": "python3",
      "display_name": "Python 3"
    },
    "language_info": {
      "name": "python"
    }
  },
  "cells": [
    {
      "cell_type": "markdown",
      "metadata": {
        "id": "view-in-github",
        "colab_type": "text"
      },
      "source": [
        "<a href=\"https://colab.research.google.com/github/sushmitsharma7/ML-lab-exp/blob/main/ml_lab1.ipynb\" target=\"_parent\"><img src=\"https://colab.research.google.com/assets/colab-badge.svg\" alt=\"Open In Colab\"/></a>"
      ]
    },
    {
      "cell_type": "code",
      "execution_count": null,
      "metadata": {
        "id": "Pgy-EKa0dWCo"
      },
      "outputs": [],
      "source": [
        "x = int(input(\"Enter the number : \"))\n",
        "for i in range (1,11):\n",
        "  print(x,\" x \",i,\" = \",x*i)"
      ]
    },
    {
      "cell_type": "code",
      "source": [
        "fruits = [\"Apple\",\"Banana\",\"Pineapple\",\"Papaya\",\"Orange\"]\n",
        "OddL = []\n",
        "newL = []\n",
        "for i in fruits :\n",
        "  if 'p' in i:\n",
        "    newL.append(i)\n",
        "  else :\n",
        "    OddL.append(i)\n",
        "print(\"fruits is : \",fruits)\n",
        "print(\"newL is : \",newL)\n",
        "print(\"OddL is : \",OddL)"
      ],
      "metadata": {
        "id": "YIHeYHuYddrJ"
      },
      "execution_count": null,
      "outputs": []
    },
    {
      "cell_type": "code",
      "source": [
        "marks = (18,19,15,20)\n",
        "print(marks[1:4])\n",
        "print(marks[:4])\n",
        "print(marks[::-1])\n",
        "print(marks[:-2])"
      ],
      "metadata": {
        "id": "UZbMN35Ede34"
      },
      "execution_count": null,
      "outputs": []
    },
    {
      "cell_type": "code",
      "source": [
        "Name = \"Mahendra Bahubali\"\n",
        "print(Name)\n",
        "firstName = Name[:8]\n",
        "lastName = Name[9:]\n",
        "print(\"Hello Mr.{} {}\".format(firstName,lastName))"
      ],
      "metadata": {
        "id": "6k2GAU5hdjKg"
      },
      "execution_count": null,
      "outputs": []
    },
    {
      "cell_type": "code",
      "source": [
        "import numpy as np\n",
        "import matplotlib.pyplot as plt\n",
        "import pandas as pd"
      ],
      "metadata": {
        "id": "o5OWImnGd51I"
      },
      "execution_count": null,
      "outputs": []
    },
    {
      "cell_type": "markdown",
      "source": [],
      "metadata": {
        "id": "MJw8Cio4d6I4"
      }
    },
    {
      "cell_type": "code",
      "source": [
        "dataset = pd.read_csv('/content/Salary.csv')\n",
        "x = dataset.iloc[:, :-1].values\n",
        "y = dataset.iloc[:, -1].values"
      ],
      "metadata": {
        "id": "eT1w7hgLeFmQ"
      },
      "execution_count": null,
      "outputs": []
    },
    {
      "cell_type": "code",
      "source": [
        "from sklearn.model_selection import train_test_split\n",
        "x_train, x_test, y_train, y_test = train_test_split(x, y, test_size=1/3,random_state=0)\n",
        "\n"
      ],
      "metadata": {
        "id": "yQYdWXmueIx4"
      },
      "execution_count": null,
      "outputs": []
    },
    {
      "cell_type": "code",
      "source": [
        "\n",
        "from sklearn.linear_model import LinearRegression\n",
        "regressor = LinearRegression()\n",
        "regressor.fit(x_train, y_train)"
      ],
      "metadata": {
        "id": "xlooXaQFeMIf"
      },
      "execution_count": null,
      "outputs": []
    },
    {
      "cell_type": "code",
      "source": [
        "y_pred = regressor.predict(x_test)"
      ],
      "metadata": {
        "id": "PvRFRaZcePn3"
      },
      "execution_count": null,
      "outputs": []
    },
    {
      "cell_type": "code",
      "source": [
        "plt.scatter(x_train, y_train, color = 'blue')\n",
        "plt.plot(x_train, regressor.predict(x_train), color = 'red')\n",
        "plt.title(\"Salary vs Experience  (trainng set)\")\n",
        "plt.xlabel(\"Experience\")\n",
        "plt.ylabel(\"Salary\")"
      ],
      "metadata": {
        "id": "vCNQYuUheScH"
      },
      "execution_count": null,
      "outputs": []
    }
  ]
}