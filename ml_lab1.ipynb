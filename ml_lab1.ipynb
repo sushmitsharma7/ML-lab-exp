{
  "nbformat": 4,
  "nbformat_minor": 0,
  "metadata": {
    "colab": {
      "provenance": [],
      "authorship_tag": "ABX9TyNoc0pxeGxzGXWKLlMveU+z",
      "include_colab_link": true
    },
    "kernelspec": {
      "name": "python3",
      "display_name": "Python 3"
    },
    "language_info": {
      "name": "python"
    }
  },
  "cells": [
    {
      "cell_type": "markdown",
      "metadata": {
        "id": "view-in-github",
        "colab_type": "text"
      },
      "source": [
        "<a href=\"https://colab.research.google.com/github/sushmitsharma7/ML-lab-exp/blob/main/ml_lab1.ipynb\" target=\"_parent\"><img src=\"https://colab.research.google.com/assets/colab-badge.svg\" alt=\"Open In Colab\"/></a>"
      ]
    },
    {
      "cell_type": "code",
      "execution_count": null,
      "metadata": {
        "id": "Pgy-EKa0dWCo"
      },
      "outputs": [],
      "source": [
        "x = int(input(\"Enter the number : \"))\n",
        "for i in range (1,11):\n",
        "  print(x,\" x \",i,\" = \",x*i)"
      ]
    },
    {
      "cell_type": "code",
      "source": [
        "fruits = [\"Apple\",\"Banana\",\"Pineapple\",\"Papaya\",\"Orange\"]\n",
        "OddL = []\n",
        "newL = []\n",
        "for i in fruits :\n",
        "  if 'p' in i:\n",
        "    newL.append(i)\n",
        "  else :\n",
        "    OddL.append(i)\n",
        "print(\"fruits is : \",fruits)\n",
        "print(\"newL is : \",newL)\n",
        "print(\"OddL is : \",OddL)"
      ],
      "metadata": {
        "id": "YIHeYHuYddrJ"
      },
      "execution_count": null,
      "outputs": []
    },
    {
      "cell_type": "code",
      "source": [
        "marks = (18,19,15,20)\n",
        "print(marks[1:4])\n",
        "print(marks[:4])\n",
        "print(marks[::-1])\n",
        "print(marks[:-2])"
      ],
      "metadata": {
        "id": "UZbMN35Ede34"
      },
      "execution_count": null,
      "outputs": []
    },
    {
      "cell_type": "code",
      "source": [
        "Name = \"Mahendra Bahubali\"\n",
        "print(Name)\n",
        "firstName = Name[:8]\n",
        "lastName = Name[9:]\n",
        "print(\"Hello Mr.{} {}\".format(firstName,lastName))"
      ],
      "metadata": {
        "id": "6k2GAU5hdjKg"
      },
      "execution_count": null,
      "outputs": []
    }
  ]
}