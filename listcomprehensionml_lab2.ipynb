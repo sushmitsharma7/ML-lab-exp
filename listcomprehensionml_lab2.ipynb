{
  "nbformat": 4,
  "nbformat_minor": 0,
  "metadata": {
    "colab": {
      "provenance": [],
      "toc_visible": true,
      "authorship_tag": "ABX9TyNoc0pxeGxzGXWKLlMveU+z",
      "include_colab_link": true
    },
    "kernelspec": {
      "name": "python3",
      "display_name": "Python 3"
    },
    "language_info": {
      "name": "python"
    }
  },
  "cells": [
    {
      "cell_type": "markdown",
      "metadata": {
        "id": "view-in-github",
        "colab_type": "text"
      },
      "source": [
        "<a href=\"https://colab.research.google.com/github/sushmitsharma7/ML-lab-exp/blob/main/ml_lab2.ipynb\" target=\"_parent\"><img src=\"https://colab.research.google.com/assets/colab-badge.svg\" alt=\"Open In Colab\"/></a>"
      ]
    },
    {
      "cell_type": "code",
      "execution_count": 2,
      "metadata": {
        "id": "Pgy-EKa0dWCo",
        "outputId": "fd7305a6-a8bc-4ca3-de74-bf317e78e318",
        "colab": {
          "base_uri": "https://localhost:8080/"
        }
      },
      "outputs": [
        {
          "output_type": "stream",
          "name": "stdout",
          "text": [
            "Enter the number : 12\n",
            "12  x  1  =  12\n",
            "12  x  2  =  24\n",
            "12  x  3  =  36\n",
            "12  x  4  =  48\n",
            "12  x  5  =  60\n",
            "12  x  6  =  72\n",
            "12  x  7  =  84\n",
            "12  x  8  =  96\n",
            "12  x  9  =  108\n",
            "12  x  10  =  120\n"
          ]
        }
      ],
      "source": [
        "x = int(input(\"Enter the number : \"))\n",
        "for i in range (1,11):\n",
        "  print(x,\" x \",i,\" = \",x*i)"
      ]
    },
    {
      "cell_type": "code",
      "source": [
        "fruits = [\"Apple\",\"Banana\",\"Pineapple\",\"Papaya\",\"Orange\"]\n",
        "OddL = []\n",
        "newL = []\n",
        "for i in fruits :\n",
        "  if 'p' in i:\n",
        "    newL.append(i)\n",
        "  else :\n",
        "    OddL.append(i)\n",
        "print(\"fruits is : \",fruits)\n",
        "print(\"newL is : \",newL)\n",
        "print(\"OddL is : \",OddL)"
      ],
      "metadata": {
        "id": "YIHeYHuYddrJ",
        "outputId": "60c4ac0b-e4fc-4f49-dee7-dc5359ce94d7",
        "colab": {
          "base_uri": "https://localhost:8080/"
        }
      },
      "execution_count": 3,
      "outputs": [
        {
          "output_type": "stream",
          "name": "stdout",
          "text": [
            "fruits is :  ['Apple', 'Banana', 'Pineapple', 'Papaya', 'Orange']\n",
            "newL is :  ['Apple', 'Pineapple', 'Papaya']\n",
            "OddL is :  ['Banana', 'Orange']\n"
          ]
        }
      ]
    },
    {
      "cell_type": "code",
      "source": [
        "marks = (18,19,15,20)\n",
        "print(marks[1:4])\n",
        "print(marks[:4])\n",
        "print(marks[::-1])\n",
        "print(marks[:-2])"
      ],
      "metadata": {
        "id": "UZbMN35Ede34",
        "outputId": "23b6c737-2a22-433f-c080-b08c46898695",
        "colab": {
          "base_uri": "https://localhost:8080/"
        }
      },
      "execution_count": 4,
      "outputs": [
        {
          "output_type": "stream",
          "name": "stdout",
          "text": [
            "(19, 15, 20)\n",
            "(18, 19, 15, 20)\n",
            "(20, 15, 19, 18)\n",
            "(18, 19)\n"
          ]
        }
      ]
    },
    {
      "cell_type": "code",
      "source": [
        "Name = \"Mahendra Bahubali\"\n",
        "print(Name)\n",
        "firstName = Name[:8]\n",
        "lastName = Name[9:]\n",
        "print(\"Hello Mr.{} {}\".format(firstName,lastName))"
      ],
      "metadata": {
        "id": "6k2GAU5hdjKg",
        "outputId": "1fba1186-dfc5-4a2e-da10-537ee0e6e739",
        "colab": {
          "base_uri": "https://localhost:8080/"
        }
      },
      "execution_count": 5,
      "outputs": [
        {
          "output_type": "stream",
          "name": "stdout",
          "text": [
            "Mahendra Bahubali\n",
            "Hello Mr.Mahendra Bahubali\n"
          ]
        }
      ]
    }
  ]
}
